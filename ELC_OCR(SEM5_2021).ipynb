{
  "nbformat": 4,
  "nbformat_minor": 0,
  "metadata": {
    "colab": {
      "name": "ELC-OCR(SEM5-2021).ipynb",
      "provenance": [],
      "collapsed_sections": [],
      "include_colab_link": true
    },
    "kernelspec": {
      "name": "python3",
      "display_name": "Python 3"
    },
    "language_info": {
      "name": "python"
    }
  },
  "cells": [
    {
      "cell_type": "markdown",
      "metadata": {
        "id": "view-in-github",
        "colab_type": "text"
      },
      "source": [
        "<a href=\"https://colab.research.google.com/github/Impervious25/UNI/blob/main/ELC_OCR(SEM5_2021).ipynb\" target=\"_parent\"><img src=\"https://colab.research.google.com/assets/colab-badge.svg\" alt=\"Open In Colab\"/></a>"
      ]
    },
    {
      "cell_type": "markdown",
      "metadata": {
        "id": "uv9dGon2tP94"
      },
      "source": [
        "# **Experiential Learning activity** for \"**Handwritten: Optical Character Recognition**\"\n",
        "\n",
        "Assignment:-\n",
        "To draw Confusion Matrix (for 10 classes: A - J English Letters) and  Cross Validation (fold 2,3,4,5,6,7,8,9,10) from given raw data of handwritten 10 classes (A - J English Letters) and source code of SVM model designing.\n",
        "\n",
        "TEAM ->\n",
        "\n",
        "NAME     :    ROLL\n",
        "*   **Harneet Kaur**     :  101917189\n",
        "*   **Aryan Bhardwaj**   :  101917195\n",
        "*   **Viplav Shrungare** :  101917197\n",
        "*   **Divyanshu Jain**   :  102097010\n"
      ]
    },
    {
      "cell_type": "code",
      "metadata": {
        "id": "YMpHA7Q1Px_X"
      },
      "source": [
        "import io\n",
        "import os\n",
        "\n",
        "import cv2\n",
        "import glob\n",
        "import h5py\n",
        "\n",
        "import keras\n",
        "import imageio\n",
        "from PIL import Image\n",
        "\n",
        "import numpy as np\n",
        "from numpy import mean, std\n",
        "\n",
        "from scipy import fftpack, ndimage\n",
        "\n",
        "import sklearn\n",
        "from sklearn import svm, metrics\n",
        "from sklearn.metrics import classification_report, confusion_matrix\n",
        "from sklearn.preprocessing import LabelEncoder, MinMaxScaler\n",
        "from sklearn.model_selection import train_test_split, cross_val_score, GridSearchCV, KFold, cross_val_predict\n",
        "\n",
        "import matplotlib.pyplot as plt\n",
        "import matplotlib.image as mpimage\n",
        "\n",
        "import datetime as dt\n",
        "from six.moves import range"
      ],
      "execution_count": 1,
      "outputs": []
    },
    {
      "cell_type": "code",
      "metadata": {
        "id": "FG1TY8oZEtqG",
        "colab": {
          "base_uri": "https://localhost:8080/"
        },
        "outputId": "1103ee5e-cd5b-493d-dc44-54da735437bf"
      },
      "source": [
        "from google.colab import drive\n",
        "drive.mount('/content/drive')"
      ],
      "execution_count": 2,
      "outputs": [
        {
          "output_type": "stream",
          "text": [
            "Mounted at /content/drive\n"
          ],
          "name": "stdout"
        }
      ]
    },
    {
      "cell_type": "code",
      "metadata": {
        "id": "9f5gBzD6CtFl"
      },
      "source": [
        "import zipfile\n",
        "\n",
        "zip_ref=zipfile.ZipFile('/content/drive/MyDrive/ELC-OCR/data/train_EC.zip','r')\n",
        "zip_ref.extractall('/content/drive/MyDrive/ELC-OCR/extracted_data')"
      ],
      "execution_count": 3,
      "outputs": []
    },
    {
      "cell_type": "code",
      "metadata": {
        "colab": {
          "base_uri": "https://localhost:8080/"
        },
        "id": "W7eVfXIlCsYo",
        "outputId": "8bf457ed-4c2a-4d6a-a086-d7cd0da28d52"
      },
      "source": [
        "!ls /content/drive/MyDrive/ELC-OCR/extracted_data/train_EC\n",
        "\n",
        "train_path=\"/content/drive/MyDrive/ELC-OCR/extracted_data/train_EC\""
      ],
      "execution_count": 4,
      "outputs": [
        {
          "output_type": "stream",
          "text": [
            "a  b  c  d  e  f  g  h\ti  j\n"
          ],
          "name": "stdout"
        }
      ]
    },
    {
      "cell_type": "code",
      "metadata": {
        "id": "K3Hvehi5Px_m",
        "colab": {
          "base_uri": "https://localhost:8080/"
        },
        "outputId": "792a8987-7a27-4147-b600-f7088fc110d4"
      },
      "source": [
        "pixel_depth=255.0\n",
        "\n",
        "train_labels=os.listdir(train_path)\n",
        "#test_labels=os.listdir(test_path)\n",
        "\n",
        "train_labels.sort()\n",
        "#test_labels.sort()\n",
        "\n",
        "print(train_labels)\n",
        "nb_classes= 10\n",
        "\n",
        "global_features_train=[]\n",
        "\n",
        "train_classes=[]\n",
        "#test_classes=[]\n",
        "\n",
        "i,j=0,0\n",
        "k=0"
      ],
      "execution_count": 5,
      "outputs": [
        {
          "output_type": "stream",
          "text": [
            "['a', 'b', 'c', 'd', 'e', 'f', 'g', 'h', 'i', 'j']\n"
          ],
          "name": "stdout"
        }
      ]
    },
    {
      "cell_type": "code",
      "metadata": {
        "id": "jIocM7_5Px_y",
        "colab": {
          "base_uri": "https://localhost:8080/"
        },
        "outputId": "fd3d50be-cfe1-4102-d3bf-5413dc5953b2"
      },
      "source": [
        "from matplotlib.pyplot import imread\n",
        "\n",
        "for training_name in train_labels:\n",
        "    path=os.path.join(train_path,training_name,'*')\n",
        "    files=glob.glob(path)\n",
        "    current_label=training_name\n",
        "    k=1\n",
        "\n",
        "    for fl in files:\n",
        "        image=imread(fl)\n",
        "        global_feature=np.hstack([image])\n",
        "        train_classes.append(current_label)\n",
        "        global_features_train.append(global_feature)\n",
        "        i+=1\n",
        "        k+1\n",
        "\n",
        "    print(\"[status] processed folder: {}\".format(current_label))\n",
        "    j+=1\n",
        "\n",
        "print(\"\\n[status] completed global feature extraction...\")\n",
        "print(\"[status] feature vector size:\\t{}\".format(np.array(global_features_train).shape))\n",
        "print(\"[status] training labels:\\t{}\".format(np.array(train_classes).shape))"
      ],
      "execution_count": 6,
      "outputs": [
        {
          "output_type": "stream",
          "text": [
            "[status] processed folder: a\n",
            "[status] processed folder: b\n",
            "[status] processed folder: c\n",
            "[status] processed folder: d\n",
            "[status] processed folder: e\n",
            "[status] processed folder: f\n",
            "[status] processed folder: g\n",
            "[status] processed folder: h\n",
            "[status] processed folder: i\n",
            "[status] processed folder: j\n",
            "\n",
            "[status] completed global feature extraction...\n",
            "[status] feature vector size:\t(835, 32, 32)\n",
            "[status] training labels:\t(835,)\n"
          ],
          "name": "stdout"
        }
      ]
    },
    {
      "cell_type": "code",
      "metadata": {
        "id": "qAfLaR9cPx_5",
        "colab": {
          "base_uri": "https://localhost:8080/"
        },
        "outputId": "b16a5e3f-c564-4ff0-9629-200f61fb95e7"
      },
      "source": [
        "#labels = (np.arange(nb_classes) == labels[:,None]).astype(np.float32)\n",
        "\n",
        "targetNames=np.unique(train_classes)\n",
        "le=LabelEncoder()\n",
        "target=le.fit_transform(train_classes)\n",
        "\n",
        "print(\"[status] training labels encoded...\")"
      ],
      "execution_count": 7,
      "outputs": [
        {
          "output_type": "stream",
          "text": [
            "[status] training labels encoded...\n"
          ],
          "name": "stdout"
        }
      ]
    },
    {
      "cell_type": "code",
      "metadata": {
        "id": "I-Zb6mQePx_8"
      },
      "source": [
        "#print(np.array(global_features_train).shape)\n",
        "\n",
        "n_samples, nx, ny=np.array(global_features_train).shape\n",
        "d2_global_features=np.array(global_features_train).reshape((n_samples, nx*ny))\n",
        "\n",
        "#scaler=MinMaxScaler(feature_range=(0,1))\n",
        "#rescaled_features=scaler.fit_transform(d2_global_features)"
      ],
      "execution_count": 8,
      "outputs": []
    },
    {
      "cell_type": "code",
      "metadata": {
        "id": "nJLFI0MNPx__",
        "colab": {
          "base_uri": "https://localhost:8080/"
        },
        "outputId": "7bdd7cbc-382b-4e91-f85e-05d6a97f9e80"
      },
      "source": [
        "print(\"[Status] feature vector normalized...\\n\")\n",
        "\n",
        "print(\"[Status] target label:\\n{}\".format(target))\n",
        "print(\"\\n[Status] target label shape: {}\".format(target.shape))"
      ],
      "execution_count": 9,
      "outputs": [
        {
          "output_type": "stream",
          "text": [
            "[Status] feature vector normalized...\n",
            "\n",
            "[Status] target label:\n",
            "[0 0 0 0 0 0 0 0 0 0 0 0 0 0 0 0 0 0 0 0 0 0 0 0 0 0 0 0 0 0 0 0 0 0 0 0 0\n",
            " 0 0 0 0 0 0 0 0 0 0 0 0 0 0 0 0 0 0 0 0 0 0 0 0 0 0 0 0 0 0 0 0 0 0 0 0 0\n",
            " 0 0 0 0 0 0 0 0 0 0 0 0 0 0 0 0 0 0 0 0 0 0 0 0 0 0 1 1 1 1 1 1 1 1 1 1 1\n",
            " 1 1 1 1 1 1 1 1 1 1 1 1 1 1 1 1 1 1 1 1 1 1 1 1 1 1 1 1 1 1 1 1 1 1 1 1 1\n",
            " 1 1 1 1 1 1 1 1 1 1 1 1 1 1 1 1 1 1 1 1 1 1 1 1 1 1 1 1 1 1 1 1 1 1 1 1 1\n",
            " 1 1 1 1 1 1 1 1 1 1 1 1 1 1 1 2 2 2 2 2 2 2 2 2 2 2 2 2 2 2 2 2 2 2 2 2 2\n",
            " 2 2 2 2 2 2 2 2 2 2 2 2 2 2 2 2 2 2 2 2 2 2 2 2 2 2 2 2 2 2 2 2 2 2 2 2 2\n",
            " 2 2 2 2 2 2 2 2 2 2 2 2 2 2 2 2 2 2 2 2 2 2 2 2 2 2 2 2 2 2 2 2 2 2 2 2 2\n",
            " 2 2 2 2 3 3 3 3 3 3 3 3 3 3 3 3 3 3 3 3 3 3 3 3 3 3 3 3 3 3 3 3 3 3 3 3 3\n",
            " 3 3 3 3 3 3 3 3 3 3 3 3 3 3 3 3 3 3 3 3 3 3 3 3 3 3 3 3 3 3 3 3 3 3 3 3 3\n",
            " 3 3 3 3 3 3 3 3 3 3 3 3 3 3 3 3 3 3 3 3 3 3 3 3 3 3 3 3 3 4 4 4 4 4 4 4 4\n",
            " 4 4 4 4 4 4 4 4 4 4 4 4 4 4 4 4 4 4 4 4 4 4 4 4 4 4 4 4 4 4 4 4 4 4 4 4 4\n",
            " 4 4 4 4 4 4 4 4 4 4 4 4 4 4 4 4 4 4 4 4 4 4 4 4 4 4 4 4 4 4 4 4 4 4 4 4 4\n",
            " 4 4 4 4 4 4 4 4 4 4 4 4 4 4 4 4 4 4 5 5 5 5 5 5 5 5 5 5 5 5 5 5 5 5 5 5 5\n",
            " 5 5 5 5 5 5 5 5 5 5 5 5 5 5 5 5 5 5 5 5 5 5 5 5 5 5 5 5 5 5 5 5 5 5 5 6 6\n",
            " 6 6 6 6 6 6 6 6 6 6 6 6 6 6 6 6 6 6 6 6 6 6 6 6 6 6 6 6 6 6 6 6 6 6 6 6 6\n",
            " 6 6 6 6 6 6 6 6 6 6 6 6 6 6 6 6 6 6 6 6 6 6 6 6 6 6 6 6 6 6 6 6 6 6 6 6 6\n",
            " 6 6 6 6 6 6 6 6 6 6 6 6 6 6 6 6 6 6 6 6 6 6 6 6 7 7 7 7 7 7 7 7 7 7 7 7 7\n",
            " 7 7 7 7 7 7 7 7 7 7 7 7 7 7 7 7 7 7 7 7 7 7 7 7 7 7 7 7 7 7 7 7 7 7 7 7 7\n",
            " 7 7 7 7 7 7 7 7 7 7 7 7 7 7 7 7 7 7 7 7 7 7 7 7 7 7 7 7 7 7 7 7 7 7 7 7 7\n",
            " 7 7 7 7 7 7 7 7 7 7 7 7 7 8 8 8 8 8 8 8 8 8 8 8 8 8 8 8 8 8 8 8 8 8 8 8 8\n",
            " 8 8 8 8 9 9 9 9 9 9 9 9 9 9 9 9 9 9 9 9 9 9 9 9 9 9 9 9 9 9 9 9 9 9 9 9 9\n",
            " 9 9 9 9 9 9 9 9 9 9 9 9 9 9 9 9 9 9 9 9 9]\n",
            "\n",
            "[Status] target label shape: (835,)\n"
          ],
          "name": "stdout"
        }
      ]
    },
    {
      "cell_type": "code",
      "metadata": {
        "id": "bOzAIpgvPyAC",
        "colab": {
          "base_uri": "https://localhost:8080/"
        },
        "outputId": "3c1e6b04-5e02-4362-bece-dd51924c4cc0"
      },
      "source": [
        "h5f_data=h5py.File('/content/drive/MyDrive/ELC-OCR/extracted_data/data.h5','w')\n",
        "h5f_data.create_dataset('dataset_1',data=np.array(d2_global_features))\n",
        "\n",
        "h5f_label=h5py.File('/content/drive/MyDrive/ELC-OCR/extracted_data/labels.h5','w')\n",
        "h5f_label.create_dataset('dataset_1',data=np.array(target))"
      ],
      "execution_count": 10,
      "outputs": [
        {
          "output_type": "execute_result",
          "data": {
            "text/plain": [
              "<HDF5 dataset \"dataset_1\": shape (835,), type \"<i8\">"
            ]
          },
          "metadata": {
            "tags": []
          },
          "execution_count": 10
        }
      ]
    },
    {
      "cell_type": "code",
      "metadata": {
        "id": "BrYRXZAKPyAD"
      },
      "source": [
        "h5f_data.close()\n",
        "h5f_label.close()"
      ],
      "execution_count": 11,
      "outputs": []
    },
    {
      "cell_type": "code",
      "metadata": {
        "id": "TOaxCwtMS2Cq"
      },
      "source": [
        "h5f_data=h5py.File('/content/drive/MyDrive/ELC-OCR/extracted_data/data.h5','r')\n",
        "h5f_label=h5py.File('/content/drive/MyDrive/ELC-OCR/extracted_data/labels.h5','r')"
      ],
      "execution_count": 12,
      "outputs": []
    },
    {
      "cell_type": "code",
      "metadata": {
        "id": "uHbSnNqrS2Ct"
      },
      "source": [
        "global_features_string_train= h5f_data['dataset_1']\n",
        "global_labels_string_train=h5f_label['dataset_1']\n",
        "\n",
        "global_features_train=np.array(global_features_string_train)\n",
        "global_labels_train=np.array(global_labels_string_train)"
      ],
      "execution_count": 13,
      "outputs": []
    },
    {
      "cell_type": "code",
      "metadata": {
        "id": "653A72ZhS2Cu"
      },
      "source": [
        "h5f_data.close()\n",
        "h5f_label.close()"
      ],
      "execution_count": 14,
      "outputs": []
    },
    {
      "cell_type": "code",
      "metadata": {
        "id": "4kgg23RfS2Cw",
        "colab": {
          "base_uri": "https://localhost:8080/"
        },
        "outputId": "b74edde8-210a-4ed5-b100-7dc14fe6eb61"
      },
      "source": [
        "print(\"[Status] training feature shape: {}\".format(global_features_train.shape))\n",
        "\n",
        "print(\"[Status] labels shape: {}\".format(global_labels_train.shape))"
      ],
      "execution_count": 15,
      "outputs": [
        {
          "output_type": "stream",
          "text": [
            "[Status] training feature shape: (835, 1024)\n",
            "[Status] labels shape: (835,)\n"
          ],
          "name": "stdout"
        }
      ]
    },
    {
      "cell_type": "code",
      "metadata": {
        "id": "9usEH4PzS2C0"
      },
      "source": [
        "clf = svm.SVC(kernel='linear')"
      ],
      "execution_count": 16,
      "outputs": []
    },
    {
      "cell_type": "code",
      "metadata": {
        "id": "1YIBujbb_w6P",
        "colab": {
          "base_uri": "https://localhost:8080/"
        },
        "outputId": "9ec260a1-4ef1-4147-86fa-0e09666230ba"
      },
      "source": [
        "from numpy import mean\n",
        "from numpy import std\n",
        "from sklearn.model_selection import cross_val_predict, KFold\n",
        "\n",
        "for i in range(2,11):\n",
        "\n",
        "  print(\"\\n\\nFOLD SPLIT: \", i)\n",
        "\n",
        "  cv = KFold(n_splits=i, random_state=1, shuffle=True)\n",
        "  scores = cross_val_score(clf,global_features_train,global_labels_train , scoring='accuracy', cv=cv, n_jobs=-1)\n",
        "  print(\"\\nScores:\\n%s\" % scores)\n",
        "  print('\\nAccuracy: %.3f (%.3f)\\n' % (mean(scores), std(scores)))\n",
        "  \n",
        "  #confusion matrix\n",
        "  y_pred = cross_val_predict(clf, global_features_train,global_labels_train , cv=i)\n",
        "  conf_mat = confusion_matrix(global_labels_train, y_pred)\n",
        "  print(\"Confusion matrix:\\n\\n%s\" % conf_mat)\n",
        "  print(\"\\n========================================\")"
      ],
      "execution_count": 17,
      "outputs": [
        {
          "output_type": "stream",
          "text": [
            "\n",
            "\n",
            "FOLD SPLIT:  2\n",
            "\n",
            "Scores:\n",
            "[0.79425837 0.76498801]\n",
            "\n",
            "Accuracy: 0.780 (0.015)\n",
            "\n",
            "Confusion matrix:\n",
            "\n",
            "[[82  4  2  5  0  1  1  5  0  0]\n",
            " [12 73  1 10  0  3  1  0  0  0]\n",
            " [ 0  1 79  2 13  2  1  2  0  0]\n",
            " [ 9  9  3 75  0  0  0  1  2  0]\n",
            " [ 2  1 11  3 81  1  1  0  0  0]\n",
            " [ 1  2  2  1  1 41  1  0  2  3]\n",
            " [ 3  5  2  2  1  2 79  2  2  2]\n",
            " [21 11  0  3  7  0  1 57  0  0]\n",
            " [ 1  0  2  2  0  3  2  0 12  6]\n",
            " [ 1  2  2  2  2  6  2  0  4 33]]\n",
            "\n",
            "========================================\n",
            "\n",
            "\n",
            "FOLD SPLIT:  3\n",
            "\n",
            "Scores:\n",
            "[0.83512545 0.79136691 0.78417266]\n",
            "\n",
            "Accuracy: 0.804 (0.023)\n",
            "\n",
            "Confusion matrix:\n",
            "\n",
            "[[88  2  1  5  1  2  0  1  0  0]\n",
            " [ 9 78  0  7  1  1  2  1  1  0]\n",
            " [ 0  1 90  1  5  1  1  0  0  1]\n",
            " [ 7  9  4 74  1  1  0  0  3  0]\n",
            " [ 1  0 26  2 67  1  0  3  0  0]\n",
            " [ 1  2  1  0  1 43  1  0  2  3]\n",
            " [ 1  4  2  2  1  2 85  1  2  0]\n",
            " [24 10  1  2  2  0  3 58  0  0]\n",
            " [ 1  0  2  2  0  3  2  0 11  7]\n",
            " [ 2  1  3  2  1  1  1  0  2 41]]\n",
            "\n",
            "========================================\n",
            "\n",
            "\n",
            "FOLD SPLIT:  4\n",
            "\n",
            "Scores:\n",
            "[0.79904306 0.81818182 0.77990431 0.78846154]\n",
            "\n",
            "Accuracy: 0.796 (0.014)\n",
            "\n",
            "Confusion matrix:\n",
            "\n",
            "[[82  4  1  5  1  1  0  6  0  0]\n",
            " [10 73  0  9  1  3  1  2  1  0]\n",
            " [ 0  1 89  2  6  1  0  0  1  0]\n",
            " [ 9  4  5 78  0  1  0  0  2  0]\n",
            " [ 0  2 17  0 78  1  0  2  0  0]\n",
            " [ 1  3  2  0  1 40  0  0  4  3]\n",
            " [ 4  5  0  3  1  1 84  0  2  0]\n",
            " [22  8  0  3  4  0  3 60  0  0]\n",
            " [ 1  0  2  1  0  3  2  0 14  5]\n",
            " [ 2  1  4  2  1  2  0  0  4 38]]\n",
            "\n",
            "========================================\n",
            "\n",
            "\n",
            "FOLD SPLIT:  5\n",
            "\n",
            "Scores:\n",
            "[0.79041916 0.88023952 0.81437126 0.80239521 0.76047904]\n",
            "\n",
            "Accuracy: 0.810 (0.040)\n",
            "\n",
            "Confusion matrix:\n",
            "\n",
            "[[86  3  0  5  0  1  1  4  0  0]\n",
            " [11 76  0  6  1  1  2  2  1  0]\n",
            " [ 0  1 88  2  5  1  1  0  0  2]\n",
            " [ 4  8  4 79  0  1  1  0  2  0]\n",
            " [ 1  1  9  2 84  1  1  1  0  0]\n",
            " [ 3  5  2  0  2 36  0  0  3  3]\n",
            " [ 2  4  3  3  1  2 82  0  3  0]\n",
            " [24  8  2  2  4  0  3 57  0  0]\n",
            " [ 1  0  2  1  0  3  0  0 14  7]\n",
            " [ 2  2  4  1  1  3  0  0  4 37]]\n",
            "\n",
            "========================================\n",
            "\n",
            "\n",
            "FOLD SPLIT:  6\n",
            "\n",
            "Scores:\n",
            "[0.82142857 0.87769784 0.76258993 0.76258993 0.82014388 0.76978417]\n",
            "\n",
            "Accuracy: 0.802 (0.042)\n",
            "\n",
            "Confusion matrix:\n",
            "\n",
            "[[83  2  1  5  1  1  1  6  0  0]\n",
            " [12 76  0  4  1  1  1  3  2  0]\n",
            " [ 0  1 93  3  1  2  0  0  0  0]\n",
            " [ 4  6  4 83  0  0  0  0  1  1]\n",
            " [ 1  0 10  4 82  1  1  1  0  0]\n",
            " [ 2  4  1  0  2 38  0  0  4  3]\n",
            " [ 2  3  2  4  1  3 84  0  1  0]\n",
            " [29  8  0  2  4  0  2 55  0  0]\n",
            " [ 1  0  3  1  0  2  1  0 14  6]\n",
            " [ 2  1  4  2  1  3  0  0  6 35]]\n",
            "\n",
            "========================================\n",
            "\n",
            "\n",
            "FOLD SPLIT:  7\n",
            "\n",
            "Scores:\n",
            "[0.825      0.83333333 0.8487395  0.79831933 0.78991597 0.78991597\n",
            " 0.75630252]\n",
            "\n",
            "Accuracy: 0.806 (0.029)\n",
            "\n",
            "Confusion matrix:\n",
            "\n",
            "[[82  1  0  7  1  1  2  6  0  0]\n",
            " [14 74  0  7  0  3  1  1  0  0]\n",
            " [ 1  1 90  3  3  2  0  0  0  0]\n",
            " [ 1  6  5 84  0  1  0  0  1  1]\n",
            " [ 1  0  8  3 85  1  1  1  0  0]\n",
            " [ 2  4  3  1  1 38  0  0  2  3]\n",
            " [ 2  5  2  3  2  2 82  1  1  0]\n",
            " [26  8  1  1  5  0  3 56  0  0]\n",
            " [ 1  0  3  1  0  3  0  0 13  7]\n",
            " [ 2  1  4  2  1  3  0  0  6 35]]\n",
            "\n",
            "========================================\n",
            "\n",
            "\n",
            "FOLD SPLIT:  8\n",
            "\n",
            "Scores:\n",
            "[0.80952381 0.82857143 0.87619048 0.74038462 0.77884615 0.78846154\n",
            " 0.81730769 0.76923077]\n",
            "\n",
            "Accuracy: 0.801 (0.039)\n",
            "\n",
            "Confusion matrix:\n",
            "\n",
            "[[82  2  0  6  1  1  1  7  0  0]\n",
            " [12 74  0  5  1  3  2  2  1  0]\n",
            " [ 0  1 88  3  6  2  0  0  0  0]\n",
            " [ 9  7  5 74  0  1  0  0  3  0]\n",
            " [ 1  0  7  0 89  1  1  1  0  0]\n",
            " [ 2  4  3  1  1 37  0  0  3  3]\n",
            " [ 3  3  2  2  2  2 85  0  1  0]\n",
            " [25  6  0  2  6  0  3 58  0  0]\n",
            " [ 1  0  3  1  0  3  1  0 14  5]\n",
            " [ 2  2  4  1  1  3  0  0  6 35]]\n",
            "\n",
            "========================================\n",
            "\n",
            "\n",
            "FOLD SPLIT:  9\n",
            "\n",
            "Scores:\n",
            "[0.87096774 0.77419355 0.89247312 0.82795699 0.79569892 0.76344086\n",
            " 0.86021505 0.79347826 0.76086957]\n",
            "\n",
            "Accuracy: 0.815 (0.046)\n",
            "\n",
            "Confusion matrix:\n",
            "\n",
            "[[83  3  0  7  1  1  1  4  0  0]\n",
            " [13 77  0  4  0  1  1  3  1  0]\n",
            " [ 1  1 93  1  2  2  0  0  0  0]\n",
            " [ 9  4  3 78  0  2  0  0  2  1]\n",
            " [ 0  0  5  0 93  1  0  1  0  0]\n",
            " [ 1  4  1  1  1 40  0  0  4  2]\n",
            " [ 2  2  2  3  1  3 85  1  1  0]\n",
            " [24  7  1  2  6  0  3 57  0  0]\n",
            " [ 0  0  3  1  0  3  1  0 13  7]\n",
            " [ 1  1  4  3  0  4  0  0  6 35]]\n",
            "\n",
            "========================================\n",
            "\n",
            "\n",
            "FOLD SPLIT:  10\n",
            "\n",
            "Scores:\n",
            "[0.85714286 0.73809524 0.89285714 0.85714286 0.77380952 0.79518072\n",
            " 0.77108434 0.80722892 0.77108434 0.75903614]\n",
            "\n",
            "Accuracy: 0.802 (0.048)\n",
            "\n",
            "Confusion matrix:\n",
            "\n",
            "[[81  2  0  6  1  1  3  6  0  0]\n",
            " [11 78  0  5  0  2  1  2  1  0]\n",
            " [ 0  1 93  2  2  1  0  0  0  1]\n",
            " [ 4  7  4 80  0  0  1  0  3  0]\n",
            " [ 0  0  5  1 92  1  0  1  0  0]\n",
            " [ 2  3  1  1  1 40  0  0  4  2]\n",
            " [ 2  4  2  2  1  3 84  0  2  0]\n",
            " [25  6  2  1  6  0  2 58  0  0]\n",
            " [ 0  0  3  1  0  3  1  0 14  6]\n",
            " [ 1  0  3  4  1  3  0  0  7 35]]\n",
            "\n",
            "========================================\n"
          ],
          "name": "stdout"
        }
      ]
    }
  ]
}